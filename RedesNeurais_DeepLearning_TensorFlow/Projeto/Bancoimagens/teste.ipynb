{
 "cells": [
  {
   "cell_type": "code",
   "execution_count": 4,
   "metadata": {
    "collapsed": true,
    "pycharm": {
     "name": "#%%\n"
    }
   },
   "outputs": [],
   "source": [
    "from keras.preprocessing import image\n",
    "#from keras.preprocessing.image import load_img\n",
    "from keras_preprocessing.image import img_to_array\n",
    "from keras.applications.vgg19 import preprocess_input\n",
    "from keras.applications.vgg19 import decode_predictions\n",
    "from keras.applications.vgg19 import VGG19\n",
    "from keras.layers import normalization, AveragePooling2D, Dense, Flatten, Dropout, GlobalAveragePooling2D\n",
    "#from keras.models import Sequential, Input, Model\n",
    "from keras.applications import vgg16\n",
    "from keras.callbacks import TensorBoard\n",
    "from tensorflow.keras.preprocessing.image import ImageDataGenerator\n",
    "import matplotlib.pyplot as plt\n",
    "from keras import layers\n",
    "import tensorflow as tf"
   ]
  },
  {
   "cell_type": "code",
   "execution_count": 5,
   "outputs": [],
   "source": [
    "Image_gen = ImageDataGenerator(rescale = 1/255, shear_range=10, zoom_range=0.3,\n",
    "                               horizontal_flip=True, vertical_flip=True,brightness_range=[0.5,2.0],\n",
    "                               width_shift_range = 0.2,rotation_range=20,fill_mode = 'nearest')\n",
    "val_Datagen = ImageDataGenerator(rescale = 1/255)"
   ],
   "metadata": {
    "collapsed": false,
    "pycharm": {
     "name": "#%%\n"
    }
   }
  },
  {
   "cell_type": "code",
   "execution_count": 8,
   "outputs": [
    {
     "name": "stdout",
     "output_type": "stream",
     "text": [
      "Found 5232 images belonging to 2 classes.\n",
      "Found 624 images belonging to 2 classes.\n"
     ]
    }
   ],
   "source": [
    "train = Image_gen.flow_from_directory('train',batch_size=32, class_mode='binary',target_size=(224,224,3))\n",
    "\n",
    "#validation = Image_gen.flow_from_directory('val',batch_size=2,class_mode='binary',target_size=(224,224,3))\n",
    "\n",
    "test = val_Datagen.flow_from_directory('test',batch_size=2,class_mode='binary',target_size=(224, 224, 3))"
   ],
   "metadata": {
    "collapsed": false,
    "pycharm": {
     "name": "#%%\n"
    }
   }
  },
  {
   "cell_type": "code",
   "execution_count": null,
   "outputs": [],
   "source": [
    "style_layers = ['block1_conv1',\n",
    "                'block1_conv2',\n",
    "                'block1_pool',\n",
    "                'block2_conv1',\n",
    "                'block2_conv2',\n",
    "                'block2_pool',\n",
    "                'block3_conv1',\n",
    "                'block3_conv2',\n",
    "                'block3_conv3',\n",
    "                'block3_conv4',\n",
    "                'block3_pool',\n",
    "                'block4_conv1',\n",
    "                'block4_conv2',\n",
    "                'block4_conv3',\n",
    "                'block4_conv4',\n",
    "                'block4_pool',\n",
    "                'block5_conv1',\n",
    "                'block5_conv2',\n",
    "                'block5_conv3',\n",
    "                'block5_conv4',\n",
    "                'block5_pool']"
   ],
   "metadata": {
    "collapsed": false,
    "pycharm": {
     "name": "#%%\n"
    }
   }
  },
  {
   "cell_type": "code",
   "execution_count": null,
   "outputs": [],
   "source": [
    "def vgg_layers(layer_names):\n",
    "    vgg = tf.keras.applications.VGG19(include_top=False, weights='imagenet')\n",
    "    vgg.trainable = False\n",
    "\n",
    "    x = vgg.output         # outputs = [vgg.get_layer(name).output for name in layer_names]\n",
    "    x = GlobalAveragePooling2D()(x)\n",
    "    x = Dense(128,activation='relu')(x)\n",
    "\n",
    "    predictions = Dense(1, activation='sigmoid')(x)\n",
    "\n",
    "    model = tf.keras.Model(inputs=vgg.input, outputs=predictions)        #    model = tf.keras.Model([vgg.input],outputs)\n",
    "    return model"
   ],
   "metadata": {
    "collapsed": false,
    "pycharm": {
     "name": "#%%\n"
    }
   }
  },
  {
   "cell_type": "code",
   "execution_count": null,
   "outputs": [],
   "source": [],
   "metadata": {
    "collapsed": false,
    "pycharm": {
     "name": "#%%\n"
    }
   }
  },
  {
   "cell_type": "code",
   "execution_count": null,
   "outputs": [],
   "source": [],
   "metadata": {
    "collapsed": false,
    "pycharm": {
     "name": "#%%\n"
    }
   }
  },
  {
   "cell_type": "code",
   "execution_count": null,
   "outputs": [],
   "source": [],
   "metadata": {
    "collapsed": false,
    "pycharm": {
     "name": "#%%\n"
    }
   }
  },
  {
   "cell_type": "code",
   "execution_count": null,
   "outputs": [],
   "source": [],
   "metadata": {
    "collapsed": false,
    "pycharm": {
     "name": "#%%\n"
    }
   }
  },
  {
   "cell_type": "code",
   "execution_count": null,
   "outputs": [],
   "source": [
    "style_extractor = vgg_layers(style_layers)\n",
    "style_outputs = style_extractor(style_image*255)\n",
    "\n",
    "#Look at the statistics of each layer's output\n",
    "for name, output in zip(style_layers, style_outputs):\n",
    "    print(name)\n",
    "    print(\"  shape: \", output.numpy().shape)\n",
    "    print(\"  min: \", output.numpy().min())\n",
    "    print(\"  max: \", output.numpy().max())\n",
    "    print(\"  mean: \", output.numpy().mean())\n",
    "    print()"
   ],
   "metadata": {
    "collapsed": false,
    "pycharm": {
     "name": "#%%\n"
    }
   }
  },
  {
   "cell_type": "code",
   "execution_count": null,
   "outputs": [],
   "source": [
    "'''\n",
    "for layer in model.layers:\n",
    "    model.trainable = False\n",
    "\n",
    "# adicionando mais algumas camadas para a saída\n",
    "model.add(Flatten())\n",
    "model.add(Dense(300, activation= 'relu'))\n",
    "model.add(Dense(len(train.class_names), activation= 'softmax'))  # 2 neuronios de \"normal\" ou \"pneumonia\"\n",
    "\n",
    "model.summary()\n",
    "\n",
    "# Colocar as layers do começo\n",
    "\n",
    "# Colocar as layers do meio\n",
    "\n",
    "# Colocar as layers do final\n",
    "\n",
    "def gram_matrix(input_tensor):\n",
    "    result = tf.linalg.einsum('bijc,bijd->bcd', input_tensor, input_tensor)\n",
    "    input_shape = tf.shape(input_tensor)\n",
    "    num_locations = tf.cast(input_shape[1]*input_shape[2], tf.float32)\n",
    "    return result/(num_locations)\n",
    "\n",
    "#######\n",
    "model_seq = Sequential()\n",
    "model_vgg19 = tf.keras.applications.VGG19(include_top=True, weights='imagenet', input_shape=(224, 224, 3))\n",
    "for layer in model_vgg19.layers:\n",
    "    model_seq.add(layer)\n",
    "\n",
    "\n",
    "#####\n",
    "for image_batch, labels_batch in test:\n",
    "    print(image_batch.shape)\n",
    "    print(labels_batch.shape)\n",
    "    break\n",
    "\n",
    "'''"
   ],
   "metadata": {
    "collapsed": false,
    "pycharm": {
     "name": "#%%\n"
    }
   }
  },
  {
   "cell_type": "code",
   "execution_count": null,
   "outputs": [],
   "source": [],
   "metadata": {
    "collapsed": false,
    "pycharm": {
     "name": "#%%\n"
    }
   }
  }
 ],
 "metadata": {
  "kernelspec": {
   "display_name": "Python 3",
   "language": "python",
   "name": "python3"
  },
  "language_info": {
   "codemirror_mode": {
    "name": "ipython",
    "version": 2
   },
   "file_extension": ".py",
   "mimetype": "text/x-python",
   "name": "python",
   "nbconvert_exporter": "python",
   "pygments_lexer": "ipython2",
   "version": "2.7.6"
  }
 },
 "nbformat": 4,
 "nbformat_minor": 0
}