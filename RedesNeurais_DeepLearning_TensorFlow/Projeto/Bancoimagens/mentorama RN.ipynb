{
 "cells": [
  {
   "cell_type": "code",
   "execution_count": 24,
   "outputs": [],
   "source": [
    "import numpy as np\n",
    "\n",
    "import keras\n",
    "from keras.layers import Input, Dense\n",
    "from keras.models import Model, Sequential\n",
    "from keras import metrics\n",
    "from keras.callbacks import History\n",
    "\n",
    "from sklearn.model_selection import train_test_split\n",
    "\n",
    "import datetime\n",
    "\n",
    "\n",
    "import tensorflow as tf"
   ],
   "metadata": {
    "collapsed": false,
    "pycharm": {
     "name": "#%%\n"
    }
   }
  },
  {
   "cell_type": "code",
   "execution_count": 21,
   "outputs": [],
   "source": [
    "#variaveis\n",
    "x = np.random.uniform(low=-10, high=10, size=100)\n",
    "y = -3 * 5 * x + 5 + np.random.normal(loc=0, scale=15, size=100)"
   ],
   "metadata": {
    "collapsed": false,
    "pycharm": {
     "name": "#%%\n"
    }
   }
  },
  {
   "cell_type": "code",
   "execution_count": 20,
   "outputs": [],
   "source": [
    "# Arquitetura da Rede\n",
    "rede_simples = keras.models.Sequential()\n",
    "rede_simples.add(keras.layers.Dense(1, input_shape=(1, ))) # 1 neuronio e uma camada"
   ],
   "metadata": {
    "collapsed": false,
    "pycharm": {
     "name": "#%%\n"
    }
   }
  },
  {
   "cell_type": "code",
   "execution_count": 22,
   "outputs": [
    {
     "data": {
      "text/plain": "\"\\nOutra forma de escrever o optimizer:\\nrede_simples.compile(loss='mse', optimizer=tf.keras.optimizers.SGD(learning_rate=0.025))\\n\""
     },
     "execution_count": 22,
     "metadata": {},
     "output_type": "execute_result"
    }
   ],
   "source": [
    "# Compilação do modelo (medir desempenho)\n",
    "rede_simples.compile(loss='mse', optimizer='SGD') # quando o optimizer é utilizado assim, ele vem com os parametros default da função.\n",
    "'''\n",
    "Outra forma de escrever o optimizer:\n",
    "rede_simples.compile(loss='mse', optimizer=tf.keras.optimizers.SGD(learning_rate=0.025))\n",
    "'''"
   ],
   "metadata": {
    "collapsed": false,
    "pycharm": {
     "name": "#%%\n"
    }
   }
  },
  {
   "cell_type": "code",
   "execution_count": 8,
   "outputs": [
    {
     "name": "stdout",
     "output_type": "stream",
     "text": [
      "Model: \"sequential_1\"\n",
      "_________________________________________________________________\n",
      " Layer (type)                Output Shape              Param #   \n",
      "=================================================================\n",
      " dense_1 (Dense)             (None, 1)                 2         \n",
      "                                                                 \n",
      "=================================================================\n",
      "Total params: 2\n",
      "Trainable params: 2\n",
      "Non-trainable params: 0\n",
      "_________________________________________________________________\n"
     ]
    }
   ],
   "source": [
    "rede_simples.summary() # 2 params, weight e bias"
   ],
   "metadata": {
    "collapsed": false,
    "pycharm": {
     "name": "#%%\n"
    }
   }
  },
  {
   "cell_type": "code",
   "execution_count": 15,
   "outputs": [
    {
     "name": "stdout",
     "output_type": "stream",
     "text": [
      "You must install pydot (`pip install pydot`) and install graphviz (see instructions at https://graphviz.gitlab.io/download/) for plot_model/model_to_dot to work.\n"
     ]
    }
   ],
   "source": [
    "from keras.utils.vis_utils import plot_model # Instalar pydot e graphviz\n",
    "plot_model(rede_simples, show_shapes= True)\n"
   ],
   "metadata": {
    "collapsed": false,
    "pycharm": {
     "name": "#%%\n"
    }
   }
  },
  {
   "cell_type": "code",
   "execution_count": 11,
   "outputs": [
    {
     "name": "stdout",
     "output_type": "stream",
     "text": [
      "Epoch 1/40\n",
      "20/20 - 0s - loss: 216.3955 - 17ms/epoch - 827us/step\n",
      "Epoch 2/40\n",
      "20/20 - 0s - loss: 217.3026 - 20ms/epoch - 998us/step\n",
      "Epoch 3/40\n",
      "20/20 - 0s - loss: 213.7177 - 24ms/epoch - 1ms/step\n",
      "Epoch 4/40\n",
      "20/20 - 0s - loss: 222.8383 - 26ms/epoch - 1ms/step\n",
      "Epoch 5/40\n",
      "20/20 - 0s - loss: 219.0086 - 26ms/epoch - 1ms/step\n",
      "Epoch 6/40\n",
      "20/20 - 0s - loss: 220.1064 - 32ms/epoch - 2ms/step\n",
      "Epoch 7/40\n",
      "20/20 - 0s - loss: 236.4135 - 56ms/epoch - 3ms/step\n",
      "Epoch 8/40\n",
      "20/20 - 0s - loss: 239.9872 - 24ms/epoch - 1ms/step\n",
      "Epoch 9/40\n",
      "20/20 - 0s - loss: 216.9291 - 23ms/epoch - 1ms/step\n",
      "Epoch 10/40\n",
      "20/20 - 0s - loss: 227.6562 - 24ms/epoch - 1ms/step\n",
      "Epoch 11/40\n",
      "20/20 - 0s - loss: 221.5612 - 26ms/epoch - 1ms/step\n",
      "Epoch 12/40\n",
      "20/20 - 0s - loss: 249.5099 - 22ms/epoch - 1ms/step\n",
      "Epoch 13/40\n",
      "20/20 - 0s - loss: 212.0117 - 22ms/epoch - 1ms/step\n",
      "Epoch 14/40\n",
      "20/20 - 0s - loss: 223.4425 - 22ms/epoch - 1ms/step\n",
      "Epoch 15/40\n",
      "20/20 - 0s - loss: 222.2455 - 25ms/epoch - 1ms/step\n",
      "Epoch 16/40\n",
      "20/20 - 0s - loss: 221.7945 - 23ms/epoch - 1ms/step\n",
      "Epoch 17/40\n",
      "20/20 - 0s - loss: 223.2404 - 23ms/epoch - 1ms/step\n",
      "Epoch 18/40\n",
      "20/20 - 0s - loss: 225.4543 - 22ms/epoch - 1ms/step\n",
      "Epoch 19/40\n",
      "20/20 - 0s - loss: 216.9640 - 24ms/epoch - 1ms/step\n",
      "Epoch 20/40\n",
      "20/20 - 0s - loss: 217.9305 - 22ms/epoch - 1ms/step\n",
      "Epoch 21/40\n",
      "20/20 - 0s - loss: 242.7063 - 20ms/epoch - 1ms/step\n",
      "Epoch 22/40\n",
      "20/20 - 0s - loss: 239.9292 - 28ms/epoch - 1ms/step\n",
      "Epoch 23/40\n",
      "20/20 - 0s - loss: 218.3227 - 24ms/epoch - 1ms/step\n",
      "Epoch 24/40\n",
      "20/20 - 0s - loss: 224.3818 - 28ms/epoch - 1ms/step\n",
      "Epoch 25/40\n",
      "20/20 - 0s - loss: 236.8037 - 23ms/epoch - 1ms/step\n",
      "Epoch 26/40\n",
      "20/20 - 0s - loss: 228.2798 - 22ms/epoch - 1ms/step\n",
      "Epoch 27/40\n",
      "20/20 - 0s - loss: 225.8112 - 21ms/epoch - 1ms/step\n",
      "Epoch 28/40\n",
      "20/20 - 0s - loss: 227.7474 - 26ms/epoch - 1ms/step\n",
      "Epoch 29/40\n",
      "20/20 - 0s - loss: 226.4123 - 20ms/epoch - 1ms/step\n",
      "Epoch 30/40\n",
      "20/20 - 0s - loss: 225.9874 - 20ms/epoch - 1ms/step\n",
      "Epoch 31/40\n",
      "20/20 - 0s - loss: 224.1868 - 21ms/epoch - 1ms/step\n",
      "Epoch 32/40\n",
      "20/20 - 0s - loss: 226.7738 - 23ms/epoch - 1ms/step\n",
      "Epoch 33/40\n",
      "20/20 - 0s - loss: 244.4394 - 21ms/epoch - 1ms/step\n",
      "Epoch 34/40\n",
      "20/20 - 0s - loss: 222.7018 - 27ms/epoch - 1ms/step\n",
      "Epoch 35/40\n",
      "20/20 - 0s - loss: 228.1945 - 21ms/epoch - 1ms/step\n",
      "Epoch 36/40\n",
      "20/20 - 0s - loss: 248.9552 - 21ms/epoch - 1ms/step\n",
      "Epoch 37/40\n",
      "20/20 - 0s - loss: 225.1719 - 25ms/epoch - 1ms/step\n",
      "Epoch 38/40\n",
      "20/20 - 0s - loss: 231.5307 - 18ms/epoch - 921us/step\n",
      "Epoch 39/40\n",
      "20/20 - 0s - loss: 235.3291 - 19ms/epoch - 936us/step\n",
      "Epoch 40/40\n",
      "20/20 - 0s - loss: 221.0163 - 24ms/epoch - 1ms/step\n"
     ]
    },
    {
     "data": {
      "text/plain": "<keras.callbacks.History at 0x1f9ecc889a0>"
     },
     "execution_count": 11,
     "metadata": {},
     "output_type": "execute_result"
    }
   ],
   "source": [
    "# Treinamento do modelo\n",
    "rede_simples.fit(x, y, batch_size=5, epochs=40,verbose=2)  # batch = tamanho dos lotes q a rede vai treinar cada vez. epochs = qtde de vezes que o modelo vai ver a rede. verbose = para ele falar oq está acontecendo em cada momento."
   ],
   "metadata": {
    "collapsed": false,
    "pycharm": {
     "name": "#%%\n"
    }
   }
  },
  {
   "cell_type": "code",
   "execution_count": 13,
   "outputs": [
    {
     "data": {
      "text/plain": "[array([[-16.282715]], dtype=float32), array([3.3342226], dtype=float32)]"
     },
     "execution_count": 13,
     "metadata": {},
     "output_type": "execute_result"
    }
   ],
   "source": [
    "rede_simples.get_weights() # weight= -15.28 bias=3.334"
   ],
   "metadata": {
    "collapsed": false,
    "pycharm": {
     "name": "#%%\n"
    }
   }
  },
  {
   "cell_type": "code",
   "execution_count": 26,
   "outputs": [],
   "source": [
    "rede_simples.save_weights('pesos_iniciais')"
   ],
   "metadata": {
    "collapsed": false,
    "pycharm": {
     "name": "#%%\n"
    }
   }
  },
  {
   "cell_type": "code",
   "execution_count": 15,
   "outputs": [
    {
     "name": "stdout",
     "output_type": "stream",
     "text": [
      "INFO:tensorflow:Assets written to: rede_simples\\assets\n"
     ]
    }
   ],
   "source": [
    "#Salvar a Rede\n",
    "rede_simples.save('rede_simples')\n",
    "# Para abrir a rede depois\n",
    "reconstructed_model = keras.models.load_model('rede_simples')\n"
   ],
   "metadata": {
    "collapsed": false,
    "pycharm": {
     "name": "#%%\n"
    }
   }
  }
 ],
 "metadata": {
  "kernelspec": {
   "display_name": "Python 3",
   "language": "python",
   "name": "python3"
  },
  "language_info": {
   "codemirror_mode": {
    "name": "ipython",
    "version": 2
   },
   "file_extension": ".py",
   "mimetype": "text/x-python",
   "name": "python",
   "nbconvert_exporter": "python",
   "pygments_lexer": "ipython2",
   "version": "2.7.6"
  }
 },
 "nbformat": 4,
 "nbformat_minor": 0
}